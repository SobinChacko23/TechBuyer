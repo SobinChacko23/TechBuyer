{
 "cells": [
  {
   "cell_type": "code",
   "execution_count": 1,
   "id": "378e04ec-8f9b-43e1-898b-595be8255dfb",
   "metadata": {},
   "outputs": [
    {
     "name": "stderr",
     "output_type": "stream",
     "text": [
      "C:\\Users\\sobin\\miniforge3\\lib\\site-packages\\soupsieve\\css_parser.py:856: FutureWarning: The pseudo class ':contains' is deprecated, ':-soup-contains' should be used moving forward.\n",
      "  warnings.warn(  # noqa: B028\n"
     ]
    }
   ],
   "source": [
    "import requests\n",
    "from bs4 import BeautifulSoup\n",
    "import pandas as pd\n",
    "\n",
    "def get_product_details(url):\n",
    "    response = requests.get(url)\n",
    "    soup = BeautifulSoup(response.text, 'html.parser')\n",
    "\n",
    "    # Extract Product Code\n",
    "    product_code_elem = soup.select_one('.key-information__sku')\n",
    "    product_code = product_code_elem.get_text(strip=True).split(\":\")[-1].strip() if product_code_elem else None\n",
    "\n",
    "    # Extract EAN\n",
    "    ean_elem = soup.select_one('.key-information__ean')\n",
    "    ean = ean_elem.get_text(strip=True).split(\":\")[-1].strip() if ean_elem else None\n",
    "\n",
    "    # Extract Brand\n",
    "    brand_elem = soup.select_one('.key-information__item span.key-information__label:contains(\"Brand:\") + span')\n",
    "    brand = brand_elem.get_text(strip=True) if brand_elem else None\n",
    "\n",
    "    return {\n",
    "        'product_code': product_code,\n",
    "        'ean': ean,\n",
    "        'brand': brand\n",
    "    }\n",
    "\n",
    "start_urls = [f\"https://www.techbuyer.com/uk/networking/blade-modules-and-switches?p={i}\" for i in range(1,16)] # Adjust the range as needed\n",
    "\n",
    "# Initialize empty lists to store data\n",
    "names = []\n",
    "image_links = []\n",
    "product_codes = []\n",
    "eans = []\n",
    "brands = []\n",
    "\n",
    "for url in start_urls:\n",
    "    response = requests.get(url)\n",
    "    soup = BeautifulSoup(response.text, 'html.parser')\n",
    "    products = soup.select('ol.products__items > li.products__item')\n",
    "    \n",
    "    for product in products:\n",
    "        name_elem = product.select_one('strong.products__item-name > a')\n",
    "        name = name_elem.get_text(strip=True) if name_elem else None\n",
    "\n",
    "        view_product_link = product.find('a', title='View Product')\n",
    "        link = view_product_link['href'] if view_product_link and 'href' in view_product_link.attrs else None\n",
    "\n",
    "        # Extract image link from src attribute\n",
    "        image_elem = product.select_one('.products__image-photo')\n",
    "        image_link = image_elem['src'] if image_elem else None\n",
    "\n",
    "        if link:\n",
    "            product_details = get_product_details(link)\n",
    "        else:\n",
    "            product_details = {'product_code': None, 'ean': None, 'brand': None}\n",
    "\n",
    "        # Append data to lists\n",
    "        names.append(name)\n",
    "        image_links.append(image_link)\n",
    "        product_codes.append(product_details['product_code'])\n",
    "        eans.append(product_details['ean'])\n",
    "        brands.append(product_details['brand'])\n",
    "\n",
    "# Create DataFrame\n",
    "data = {\n",
    "    'name': names,\n",
    "    'image_link': image_links,\n",
    "    'product_code': product_codes,\n",
    "    'ean': eans,\n",
    "    'brand': brands\n",
    "}\n",
    "\n",
    "df = pd.DataFrame(data)"
   ]
  },
  {
   "cell_type": "code",
   "execution_count": 2,
   "id": "e9604ce4-760d-4336-aa26-38f730aede7c",
   "metadata": {},
   "outputs": [],
   "source": [
    "# Save DataFrame as Excel file\n",
    "excel_file_path = \"C:\\SOBIN_CHACKO\\Blade Modules and Switches.xlsx\"\n",
    "df.to_excel(excel_file_path, index=False)"
   ]
  }
 ],
 "metadata": {
  "kernelspec": {
   "display_name": "Python 3 (ipykernel)",
   "language": "python",
   "name": "python3"
  },
  "language_info": {
   "codemirror_mode": {
    "name": "ipython",
    "version": 3
   },
   "file_extension": ".py",
   "mimetype": "text/x-python",
   "name": "python",
   "nbconvert_exporter": "python",
   "pygments_lexer": "ipython3",
   "version": "3.10.14"
  }
 },
 "nbformat": 4,
 "nbformat_minor": 5
}
