{
 "cells": [
  {
   "cell_type": "code",
   "execution_count": 1,
   "id": "67c94d73-e728-4fcb-b5ca-b5f8326294e7",
   "metadata": {},
   "outputs": [
    {
     "name": "stderr",
     "output_type": "stream",
     "text": [
      "C:\\Users\\sobin\\miniforge3\\lib\\site-packages\\soupsieve\\css_parser.py:856: FutureWarning: The pseudo class ':contains' is deprecated, ':-soup-contains' should be used moving forward.\n",
      "  warnings.warn(  # noqa: B028\n"
     ]
    }
   ],
   "source": [
    "import requests\n",
    "from bs4 import BeautifulSoup\n",
    "import pandas as pd\n",
    "\n",
    "def get_product_details(url):\n",
    "    response = requests.get(url)\n",
    "    soup = BeautifulSoup(response.text, 'html.parser')\n",
    "\n",
    "    # Extract Product Code\n",
    "    product_code_elem = soup.select_one('.key-information__sku')\n",
    "    product_code = product_code_elem.get_text(strip=True).split(\":\")[-1].strip() if product_code_elem else None\n",
    "\n",
    "    # Extract EAN\n",
    "    ean_elem = soup.select_one('.key-information__ean')\n",
    "    ean = ean_elem.get_text(strip=True).split(\":\")[-1].strip() if ean_elem else None\n",
    "\n",
    "    # Extract Brand\n",
    "    brand_elem = soup.select_one('.key-information__item span.key-information__label:contains(\"Brand:\") + span')\n",
    "    brand = brand_elem.get_text(strip=True) if brand_elem else None\n",
    "\n",
    "    return {\n",
    "        'product_code': product_code,\n",
    "        'ean': ean,\n",
    "        'brand': brand\n",
    "    }\n",
    "\n",
    "start_urls = [f\"https://www.techbuyer.com/uk/computing/desktop-pc-s?p={i}\" for i in range(1,9)]  # Adjust the range as needed\n",
    "\n",
    "# Initialize empty lists to store data\n",
    "names = []\n",
    "image_links = []\n",
    "product_codes = []\n",
    "eans = []\n",
    "brands = []\n",
    "\n",
    "for url in start_urls:\n",
    "    response = requests.get(url)\n",
    "    soup = BeautifulSoup(response.text, 'html.parser')\n",
    "    products = soup.select('ol.products__items > li.products__item')\n",
    "    \n",
    "    for product in products:\n",
    "        name_elem = product.select_one('strong.products__item-name > a')\n",
    "        name = name_elem.get_text(strip=True) if name_elem else None\n",
    "\n",
    "        view_product_link = product.find('a', title='View Product')\n",
    "        link = view_product_link['href'] if view_product_link and 'href' in view_product_link.attrs else None\n",
    "\n",
    "        # Extract image link from src attribute\n",
    "        image_elem = product.select_one('.products__image-photo')\n",
    "        image_link = image_elem['src'] if image_elem else None\n",
    "\n",
    "        if link:\n",
    "            product_details = get_product_details(link)\n",
    "        else:\n",
    "            product_details = {'product_code': None, 'ean': None, 'brand': None}\n",
    "\n",
    "        # Append data to lists\n",
    "        names.append(name)\n",
    "        image_links.append(image_link)\n",
    "        product_codes.append(product_details['product_code'])\n",
    "        eans.append(product_details['ean'])\n",
    "        brands.append(product_details['brand'])\n",
    "\n",
    "# Create DataFrame\n",
    "data = {\n",
    "    'name': names,\n",
    "    'image_link': image_links,\n",
    "    'product_code': product_codes,\n",
    "    'ean': eans,\n",
    "    'brand': brands\n",
    "}\n",
    "\n",
    "df = pd.DataFrame(data)\n"
   ]
  },
  {
   "cell_type": "code",
   "execution_count": 2,
   "id": "e5858259-1b95-4981-9b68-3ffce6559090",
   "metadata": {},
   "outputs": [],
   "source": [
    "# Save DataFrame as Excel file\n",
    "excel_file_path = \"C:\\SOBIN_CHACKO\\Desktop.xlsx\"\n",
    "df.to_excel(excel_file_path, index=False)"
   ]
  },
  {
   "cell_type": "code",
   "execution_count": null,
   "id": "1b5ae291-56a3-40e6-9d7c-1738ee6231be",
   "metadata": {},
   "outputs": [],
   "source": []
  }
 ],
 "metadata": {
  "kernelspec": {
   "display_name": "Python 3 (ipykernel)",
   "language": "python",
   "name": "python3"
  },
  "language_info": {
   "codemirror_mode": {
    "name": "ipython",
    "version": 3
   },
   "file_extension": ".py",
   "mimetype": "text/x-python",
   "name": "python",
   "nbconvert_exporter": "python",
   "pygments_lexer": "ipython3",
   "version": "3.10.14"
  }
 },
 "nbformat": 4,
 "nbformat_minor": 5
}
